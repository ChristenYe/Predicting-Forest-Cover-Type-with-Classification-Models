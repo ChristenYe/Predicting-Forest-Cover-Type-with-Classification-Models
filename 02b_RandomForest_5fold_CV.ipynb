{
 "cells": [
  {
   "cell_type": "markdown",
   "id": "c193aeb5-d56b-4fb3-b6e5-ade88c99470d",
   "metadata": {},
   "source": [
    "## Import Libraries"
   ]
  },
  {
   "cell_type": "code",
   "execution_count": 1,
   "id": "ef0638f0-e605-49fe-bb51-56332d48aca2",
   "metadata": {},
   "outputs": [],
   "source": [
    "import numpy as np\n",
    "import pandas as pd\n",
    "from sklearn.ensemble import RandomForestClassifier\n",
    "from sklearn.model_selection import (\n",
    "    KFold,\n",
    "    cross_val_score\n",
    ")\n"
   ]
  },
  {
   "cell_type": "markdown",
   "id": "8f16c4f2-feb9-4a48-8417-4d806577b237",
   "metadata": {},
   "source": [
    "## Read Dataset"
   ]
  },
  {
   "cell_type": "code",
   "execution_count": 2,
   "id": "d797a5e7-835b-4dcb-8713-be0d21639814",
   "metadata": {},
   "outputs": [
    {
     "name": "stdout",
     "output_type": "stream",
     "text": [
      "(18900, 20)\n"
     ]
    },
    {
     "data": {
      "text/html": [
       "<div>\n",
       "<style scoped>\n",
       "    .dataframe tbody tr th:only-of-type {\n",
       "        vertical-align: middle;\n",
       "    }\n",
       "\n",
       "    .dataframe tbody tr th {\n",
       "        vertical-align: top;\n",
       "    }\n",
       "\n",
       "    .dataframe thead th {\n",
       "        text-align: right;\n",
       "    }\n",
       "</style>\n",
       "<table border=\"1\" class=\"dataframe\">\n",
       "  <thead>\n",
       "    <tr style=\"text-align: right;\">\n",
       "      <th></th>\n",
       "      <th>Elevation</th>\n",
       "      <th>Aspect</th>\n",
       "      <th>Slope</th>\n",
       "      <th>Horizontal_Distance_To_Hydrology</th>\n",
       "      <th>Vertical_Distance_To_Hydrology</th>\n",
       "      <th>Horizontal_Distance_To_Roadways</th>\n",
       "      <th>Hillshade_9am</th>\n",
       "      <th>Hillshade_Noon</th>\n",
       "      <th>Hillshade_3pm</th>\n",
       "      <th>Horizontal_Distance_To_Fire_Points</th>\n",
       "      <th>Wilderness_Area3</th>\n",
       "      <th>Wilderness_Area4</th>\n",
       "      <th>Soil_Type3</th>\n",
       "      <th>Soil_Type4</th>\n",
       "      <th>Soil_Type10</th>\n",
       "      <th>Soil_Type23</th>\n",
       "      <th>Soil_Type29</th>\n",
       "      <th>Soil_Type30</th>\n",
       "      <th>Soil_Type32</th>\n",
       "      <th>Cover_Type</th>\n",
       "    </tr>\n",
       "  </thead>\n",
       "  <tbody>\n",
       "    <tr>\n",
       "      <th>0</th>\n",
       "      <td>0.488750</td>\n",
       "      <td>0.242953</td>\n",
       "      <td>1.579103</td>\n",
       "      <td>-0.242440</td>\n",
       "      <td>-0.103541</td>\n",
       "      <td>0.840184</td>\n",
       "      <td>0.856814</td>\n",
       "      <td>-2.074582</td>\n",
       "      <td>-2.035292</td>\n",
       "      <td>0.828308</td>\n",
       "      <td>1</td>\n",
       "      <td>0</td>\n",
       "      <td>0</td>\n",
       "      <td>0</td>\n",
       "      <td>0</td>\n",
       "      <td>0</td>\n",
       "      <td>0</td>\n",
       "      <td>0</td>\n",
       "      <td>0</td>\n",
       "      <td>1</td>\n",
       "    </tr>\n",
       "    <tr>\n",
       "      <th>1</th>\n",
       "      <td>0.923949</td>\n",
       "      <td>0.924811</td>\n",
       "      <td>-1.243057</td>\n",
       "      <td>-0.080129</td>\n",
       "      <td>-0.914803</td>\n",
       "      <td>-0.563925</td>\n",
       "      <td>-0.384762</td>\n",
       "      <td>0.664501</td>\n",
       "      <td>0.749468</td>\n",
       "      <td>-0.029120</td>\n",
       "      <td>0</td>\n",
       "      <td>0</td>\n",
       "      <td>0</td>\n",
       "      <td>0</td>\n",
       "      <td>0</td>\n",
       "      <td>1</td>\n",
       "      <td>0</td>\n",
       "      <td>0</td>\n",
       "      <td>0</td>\n",
       "      <td>1</td>\n",
       "    </tr>\n",
       "    <tr>\n",
       "      <th>2</th>\n",
       "      <td>1.301760</td>\n",
       "      <td>0.543035</td>\n",
       "      <td>0.285613</td>\n",
       "      <td>0.287345</td>\n",
       "      <td>-0.751288</td>\n",
       "      <td>1.380650</td>\n",
       "      <td>0.547494</td>\n",
       "      <td>-1.044093</td>\n",
       "      <td>-0.969251</td>\n",
       "      <td>1.453142</td>\n",
       "      <td>1</td>\n",
       "      <td>0</td>\n",
       "      <td>0</td>\n",
       "      <td>0</td>\n",
       "      <td>0</td>\n",
       "      <td>1</td>\n",
       "      <td>0</td>\n",
       "      <td>0</td>\n",
       "      <td>0</td>\n",
       "      <td>1</td>\n",
       "    </tr>\n",
       "    <tr>\n",
       "      <th>3</th>\n",
       "      <td>0.503097</td>\n",
       "      <td>0.767480</td>\n",
       "      <td>-1.125467</td>\n",
       "      <td>-0.680049</td>\n",
       "      <td>-0.820478</td>\n",
       "      <td>1.037096</td>\n",
       "      <td>0.285514</td>\n",
       "      <td>0.232543</td>\n",
       "      <td>0.075034</td>\n",
       "      <td>-0.038221</td>\n",
       "      <td>1</td>\n",
       "      <td>0</td>\n",
       "      <td>0</td>\n",
       "      <td>0</td>\n",
       "      <td>0</td>\n",
       "      <td>0</td>\n",
       "      <td>0</td>\n",
       "      <td>0</td>\n",
       "      <td>0</td>\n",
       "      <td>1</td>\n",
       "    </tr>\n",
       "    <tr>\n",
       "      <th>4</th>\n",
       "      <td>1.220459</td>\n",
       "      <td>-1.652851</td>\n",
       "      <td>-1.007877</td>\n",
       "      <td>0.835735</td>\n",
       "      <td>0.226095</td>\n",
       "      <td>0.818457</td>\n",
       "      <td>0.212150</td>\n",
       "      <td>1.266796</td>\n",
       "      <td>0.531908</td>\n",
       "      <td>0.212173</td>\n",
       "      <td>1</td>\n",
       "      <td>0</td>\n",
       "      <td>0</td>\n",
       "      <td>0</td>\n",
       "      <td>0</td>\n",
       "      <td>0</td>\n",
       "      <td>0</td>\n",
       "      <td>0</td>\n",
       "      <td>0</td>\n",
       "      <td>1</td>\n",
       "    </tr>\n",
       "  </tbody>\n",
       "</table>\n",
       "</div>"
      ],
      "text/plain": [
       "   Elevation    Aspect     Slope  Horizontal_Distance_To_Hydrology  \\\n",
       "0   0.488750  0.242953  1.579103                         -0.242440   \n",
       "1   0.923949  0.924811 -1.243057                         -0.080129   \n",
       "2   1.301760  0.543035  0.285613                          0.287345   \n",
       "3   0.503097  0.767480 -1.125467                         -0.680049   \n",
       "4   1.220459 -1.652851 -1.007877                          0.835735   \n",
       "\n",
       "   Vertical_Distance_To_Hydrology  Horizontal_Distance_To_Roadways  \\\n",
       "0                       -0.103541                         0.840184   \n",
       "1                       -0.914803                        -0.563925   \n",
       "2                       -0.751288                         1.380650   \n",
       "3                       -0.820478                         1.037096   \n",
       "4                        0.226095                         0.818457   \n",
       "\n",
       "   Hillshade_9am  Hillshade_Noon  Hillshade_3pm  \\\n",
       "0       0.856814       -2.074582      -2.035292   \n",
       "1      -0.384762        0.664501       0.749468   \n",
       "2       0.547494       -1.044093      -0.969251   \n",
       "3       0.285514        0.232543       0.075034   \n",
       "4       0.212150        1.266796       0.531908   \n",
       "\n",
       "   Horizontal_Distance_To_Fire_Points  Wilderness_Area3  Wilderness_Area4  \\\n",
       "0                            0.828308                 1                 0   \n",
       "1                           -0.029120                 0                 0   \n",
       "2                            1.453142                 1                 0   \n",
       "3                           -0.038221                 1                 0   \n",
       "4                            0.212173                 1                 0   \n",
       "\n",
       "   Soil_Type3  Soil_Type4  Soil_Type10  Soil_Type23  Soil_Type29  Soil_Type30  \\\n",
       "0           0           0            0            0            0            0   \n",
       "1           0           0            0            1            0            0   \n",
       "2           0           0            0            1            0            0   \n",
       "3           0           0            0            0            0            0   \n",
       "4           0           0            0            0            0            0   \n",
       "\n",
       "   Soil_Type32  Cover_Type  \n",
       "0            0           1  \n",
       "1            0           1  \n",
       "2            0           1  \n",
       "3            0           1  \n",
       "4            0           1  "
      ]
     },
     "execution_count": 2,
     "metadata": {},
     "output_type": "execute_result"
    }
   ],
   "source": [
    "df = pd.read_csv(\"Transformed_Data.csv\")\n",
    "print(df.shape)\n",
    "df.head()"
   ]
  },
  {
   "cell_type": "markdown",
   "id": "b0a1067b-30c8-4b0a-9289-76bba87fbb48",
   "metadata": {},
   "source": [
    "## Separate response and predictor variables"
   ]
  },
  {
   "cell_type": "code",
   "execution_count": 3,
   "id": "10018f48-cda3-4ffb-84e1-fd5610f42b04",
   "metadata": {},
   "outputs": [],
   "source": [
    "features = df.drop(columns=[\"Cover_Type\"])\n",
    "cover_type = df[\"Cover_Type\"]"
   ]
  },
  {
   "cell_type": "code",
   "execution_count": 4,
   "id": "54c7597a-bd0e-4167-8436-4464579fcdf4",
   "metadata": {},
   "outputs": [],
   "source": [
    "## Subset of features were selected based on Random Forest model as it is the best model out of all\n",
    "subset = [\n",
    "    \"Elevation\",\n",
    "    \"Horizontal_Distance_To_Roadways\",\n",
    "    \"Horizontal_Distance_To_Fire_Points\",\n",
    "    \"Horizontal_Distance_To_Hydrology\",\n",
    "    \"Vertical_Distance_To_Hydrology\",\n",
    "    \"Hillshade_9am\",\n",
    "    \"Aspect\",\n",
    "    \"Hillshade_Noon\",\n",
    "    \"Hillshade_3pm\",\n",
    "    \"Wilderness_Area4\"\n",
    "]\n",
    "\n",
    "features_10 = features[subset]"
   ]
  },
  {
   "cell_type": "markdown",
   "id": "5eca28b5-1871-44fc-b542-239f97432644",
   "metadata": {},
   "source": [
    "## Random Forest - with all features"
   ]
  },
  {
   "cell_type": "code",
   "execution_count": 5,
   "id": "f4213c0f-cb09-4e03-ab8e-d4a74afcef49",
   "metadata": {},
   "outputs": [
    {
     "name": "stdout",
     "output_type": "stream",
     "text": [
      "   Fold  Accuracy\n",
      "0     1  0.867196\n",
      "1     2  0.853439\n",
      "2     3  0.863757\n",
      "3     4  0.871693\n",
      "4     5  0.859788\n",
      "Average accuracy: 0.8631746031746033\n"
     ]
    }
   ],
   "source": [
    "## Set up random forest classifier\n",
    "rf =  RandomForestClassifier()\n",
    "\n",
    "# Set up the k-fold cross-validator\n",
    "kfold = 5\n",
    "kf = KFold(n_splits=kfold, shuffle=True, random_state=447)\n",
    "\n",
    "# Calculate out-of-sample accuracy\n",
    "scores = cross_val_score(rf, features, cover_type , cv=kf, scoring='accuracy')\n",
    "\n",
    "# Print individual fold accuracies and average accuracy\n",
    "results = pd.DataFrame({'Fold': np.arange(1, kfold + 1), 'Accuracy': scores})\n",
    "print(results)\n",
    "print(f'Average accuracy: {np.mean(scores)}')"
   ]
  },
  {
   "cell_type": "markdown",
   "id": "7d8744fe-30e0-4318-8a48-14354ba7eadd",
   "metadata": {},
   "source": [
    "## Random Forest - with 10 features"
   ]
  },
  {
   "cell_type": "code",
   "execution_count": 6,
   "id": "9cf00851-aaad-4885-99b2-b931871f8ca5",
   "metadata": {},
   "outputs": [
    {
     "name": "stdout",
     "output_type": "stream",
     "text": [
      "   Fold  Accuracy\n",
      "0     1  0.848413\n",
      "1     2  0.841799\n",
      "2     3  0.837566\n",
      "3     4  0.855820\n",
      "4     5  0.844974\n",
      "Average accuracy: 0.8457142857142858\n"
     ]
    }
   ],
   "source": [
    "# Calculate out-of-sample accuracy\n",
    "scores = cross_val_score(rf, features_10, cover_type , cv=kf, scoring='accuracy')\n",
    "\n",
    "# Print individual fold accuracies and average accuracy\n",
    "results = pd.DataFrame({'Fold': np.arange(1, kfold + 1), 'Accuracy': scores})\n",
    "print(results)\n",
    "print(f'Average accuracy: {np.mean(scores)}')"
   ]
  },
  {
   "cell_type": "markdown",
   "id": "b7686b42-0a20-418d-984b-82e0def3e731",
   "metadata": {},
   "source": [
    "As seen, reducing the number of features did not improve the accuracy."
   ]
  }
 ],
 "metadata": {
  "kernelspec": {
   "display_name": "Python 3 (ipykernel)",
   "language": "python",
   "name": "python3"
  },
  "language_info": {
   "codemirror_mode": {
    "name": "ipython",
    "version": 3
   },
   "file_extension": ".py",
   "mimetype": "text/x-python",
   "name": "python",
   "nbconvert_exporter": "python",
   "pygments_lexer": "ipython3",
   "version": "3.10.9"
  }
 },
 "nbformat": 4,
 "nbformat_minor": 5
}
